{
 "cells": [
  {
   "cell_type": "markdown",
   "metadata": {},
   "source": [
    "# Task 1.1\n",
    "Discretización de la imagen"
   ]
  },
  {
   "cell_type": "code",
   "execution_count": null,
   "metadata": {},
   "outputs": [],
   "source": [
    "! pip install opencv-contrib-python"
   ]
  },
  {
   "cell_type": "code",
   "execution_count": 52,
   "metadata": {},
   "outputs": [],
   "source": [
    "import numpy as np\n",
    "def is_gray(color, threshold):\n",
    "    \"\"\"Check if a color is considered gray.\n",
    "\n",
    "    Args:\n",
    "        color: A tuple representing the RGB values of the color.\n",
    "        threshold: The threshold for considering the color as gray.\n",
    "\n",
    "    Returns:\n",
    "        True if the color is considered gray, False otherwise.\n",
    "    \"\"\"\n",
    "    return all(abs(color[i] - color[(i + 1) % 3]) < threshold for i in range(3))\n",
    "\n",
    "def convert_image_to_cells(image, cell_size):\n",
    "    \"\"\"Converts an image to cells based on color.\n",
    "\n",
    "    Args:\n",
    "        image: A NumPy array representing the image.\n",
    "        cell_size: The size of each cell in pixels.\n",
    "\n",
    "    Returns:\n",
    "        A NumPy array representing the cells, where each element is the average color\n",
    "        of the corresponding cell in the original image.\n",
    "    \"\"\"\n",
    "\n",
    "    # Check if the image is a 3-channel BGR image\n",
    "    if len(image.shape) != 3 or image.shape[2] != 3:\n",
    "        raise ValueError(\"Image must be a 3-channel BGR image.\")\n",
    "\n",
    "    height, width = image.shape[:2]  # Unpack the width and height\n",
    "    cells = np.zeros((height // cell_size, width // cell_size, 3), dtype=np.uint8)\n",
    "\n",
    "    for i in range(height // cell_size ):\n",
    "        for j in range(width // cell_size):\n",
    "            # Get the slice of the image corresponding to the current cell\n",
    "            cell_image = image[i * cell_size : (i + 1) * cell_size,\n",
    "                               j * cell_size : (j + 1) * cell_size]\n",
    "\n",
    "            # Calculate the average color of the cell\n",
    "            cell_color = np.mean(cell_image, axis=(0, 1))\n",
    "\n",
    "            # Define the threshold values for each color\n",
    "            green_threshold = 100\n",
    "            black_threshold = 150\n",
    "            red_threshold = 100\n",
    "\n",
    "            # Check if the average color falls within the threshold ranges\n",
    "            if (cell_color[0] <= black_threshold and\n",
    "                cell_color[1] <= black_threshold and\n",
    "                cell_color[2] <= black_threshold):\n",
    "                # If the color is close to black, assign black\n",
    "                cell_color = [0, 0, 0]\n",
    "            elif (cell_color[0] < red_threshold and\n",
    "                  cell_color[1] > green_threshold and \n",
    "                  cell_color[2] < red_threshold):\n",
    "                # If the color is close to green, assign green\n",
    "                cell_color = [6, 252, 6]\n",
    "            elif (cell_color[0] < red_threshold and\n",
    "                  cell_color[1] < green_threshold and \n",
    "                  cell_color[2] > red_threshold - 80):\n",
    "                # If the color is close to red, assign red\n",
    "                cell_color = [4, 4, 252]\n",
    "            else:\n",
    "                # If the color does not match any of the specified colors, assign white\n",
    "                cell_color = [255, 255, 255]\n",
    "\n",
    "            # Assign the color to the corresponding cell in the output array\n",
    "            cells[i, j] = cell_color\n",
    "\n",
    "    return cells\n"
   ]
  },
  {
   "cell_type": "code",
   "execution_count": 53,
   "metadata": {},
   "outputs": [
    {
     "name": "stdout",
     "output_type": "stream",
     "text": [
      "(145, 145, 3)\n"
     ]
    }
   ],
   "source": [
    "import cv2\n",
    "\n",
    "\n",
    "# Load the image\n",
    "image = cv2.imread('Test.bmp')\n",
    "\n",
    "# Convert the image to cells\n",
    "cells = convert_image_to_cells(image, cell_size=4)\n",
    "\n",
    "# Save the cells to a file (optional)\n",
    "cv2.imwrite(\"cells_Test.bmp\", cells)\n",
    "\n",
    "print(cells.shape)\n"
   ]
  }
 ],
 "metadata": {
  "kernelspec": {
   "display_name": "Python 3",
   "language": "python",
   "name": "python3"
  },
  "language_info": {
   "codemirror_mode": {
    "name": "ipython",
    "version": 3
   },
   "file_extension": ".py",
   "mimetype": "text/x-python",
   "name": "python",
   "nbconvert_exporter": "python",
   "pygments_lexer": "ipython3",
   "version": "3.11.3"
  }
 },
 "nbformat": 4,
 "nbformat_minor": 2
}
